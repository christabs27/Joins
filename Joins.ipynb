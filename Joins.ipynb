{
 "cells": [
  {
   "cell_type": "markdown",
   "id": "fe28d818",
   "metadata": {
    "id": "fe28d818"
   },
   "source": [
    "# Guided Activity: Merging Client Data\n",
    "\n",
    "Typically, the bank does not keep client information with their personal financial information. However, for analysis purposes, we will need to reveal which bank accounts belong to which client. \n",
    "\n",
    "In this activity, you will: \n",
    "* Read each CSV file into a DataFrame.\n",
    "* Use the `.merge()` function to perform four different types of joins. \n",
    "* Determine which `join` is appropriate for our purposes."
   ]
  },
  {
   "cell_type": "markdown",
   "id": "3fdf3ec4",
   "metadata": {
    "id": "3fdf3ec4"
   },
   "source": [
    "**Step 1: Import Pandas as pd.**"
   ]
  },
  {
   "cell_type": "code",
   "execution_count": 1,
   "id": "353e6989",
   "metadata": {
    "id": "353e6989"
   },
   "outputs": [],
   "source": [
    "import pandas as pd"
   ]
  },
  {
   "cell_type": "markdown",
   "id": "d4f0358c",
   "metadata": {
    "id": "d4f0358c"
   },
   "source": [
    "**Step 2: Read each file into a separate DataFrame.** \n",
    "\n",
    "Read ***ClientData_1.csv*** into a DataFrame with a name of your choice. Do the same for ***ClientData_2.csv***. "
   ]
  },
  {
   "cell_type": "code",
   "execution_count": 3,
   "id": "0f9c4f3a",
   "metadata": {
    "id": "0f9c4f3a"
   },
   "outputs": [],
   "source": [
    "# upload\n",
    "file1 = open(\"C:/Users/Chris/Desktop/UNLV/Python/ClientData_1.csv\")\n",
    "file2 = open(\"C:/Users/Chris/Desktop/UNLV/Python/ClientData_2.csv\")"
   ]
  },
  {
   "cell_type": "code",
   "execution_count": 6,
   "id": "ebbd2081-e574-449c-b179-fbe28f8772ac",
   "metadata": {},
   "outputs": [],
   "source": [
    "# Read\n",
    "file1 = pd.read_csv(\"C:/Users/Chris/Desktop/UNLV/Python/ClientData_1.csv\")\n",
    "file2 = pd.read_csv(\"C:/Users/Chris/Desktop/UNLV/Python/ClientData_2.csv\")"
   ]
  },
  {
   "cell_type": "code",
   "execution_count": 8,
   "id": "d38b4720-ffd4-4df3-a387-b4178e84abb1",
   "metadata": {},
   "outputs": [
    {
     "data": {
      "text/html": [
       "<div>\n",
       "<style scoped>\n",
       "    .dataframe tbody tr th:only-of-type {\n",
       "        vertical-align: middle;\n",
       "    }\n",
       "\n",
       "    .dataframe tbody tr th {\n",
       "        vertical-align: top;\n",
       "    }\n",
       "\n",
       "    .dataframe thead th {\n",
       "        text-align: right;\n",
       "    }\n",
       "</style>\n",
       "<table border=\"1\" class=\"dataframe\">\n",
       "  <thead>\n",
       "    <tr style=\"text-align: right;\">\n",
       "      <th></th>\n",
       "      <th>Account_Num</th>\n",
       "      <th>First_Name</th>\n",
       "      <th>Last_Name</th>\n",
       "      <th>Email</th>\n",
       "      <th>CC_Num</th>\n",
       "      <th>Current_Bal</th>\n",
       "    </tr>\n",
       "  </thead>\n",
       "  <tbody>\n",
       "    <tr>\n",
       "      <th>0</th>\n",
       "      <td>19-9089842</td>\n",
       "      <td>Melli</td>\n",
       "      <td>Devote</td>\n",
       "      <td>mdevote0@globo.com</td>\n",
       "      <td>2.018020e+14</td>\n",
       "      <td>$3.68B</td>\n",
       "    </tr>\n",
       "    <tr>\n",
       "      <th>1</th>\n",
       "      <td>14-3382564</td>\n",
       "      <td>Paulo</td>\n",
       "      <td>Freiberg</td>\n",
       "      <td>pfreiberg1@usa.gov</td>\n",
       "      <td>6.334730e+17</td>\n",
       "      <td>$42.28M</td>\n",
       "    </tr>\n",
       "    <tr>\n",
       "      <th>2</th>\n",
       "      <td>21-9295986</td>\n",
       "      <td>Alain</td>\n",
       "      <td>Gay</td>\n",
       "      <td>agay2@wix.com</td>\n",
       "      <td>3.553910e+15</td>\n",
       "      <td>$2.59B</td>\n",
       "    </tr>\n",
       "    <tr>\n",
       "      <th>3</th>\n",
       "      <td>78-7512467</td>\n",
       "      <td>Tore</td>\n",
       "      <td>Subhan</td>\n",
       "      <td>tsubhan3@ibm.com</td>\n",
       "      <td>5.893750e+18</td>\n",
       "      <td>$193.2M</td>\n",
       "    </tr>\n",
       "    <tr>\n",
       "      <th>4</th>\n",
       "      <td>90-5975226</td>\n",
       "      <td>Damien</td>\n",
       "      <td>Klais</td>\n",
       "      <td>dklais4@tinypic.com</td>\n",
       "      <td>6.706640e+18</td>\n",
       "      <td>$187.49M</td>\n",
       "    </tr>\n",
       "    <tr>\n",
       "      <th>...</th>\n",
       "      <td>...</td>\n",
       "      <td>...</td>\n",
       "      <td>...</td>\n",
       "      <td>...</td>\n",
       "      <td>...</td>\n",
       "      <td>...</td>\n",
       "    </tr>\n",
       "    <tr>\n",
       "      <th>414</th>\n",
       "      <td>48-9832025</td>\n",
       "      <td>Eolande</td>\n",
       "      <td>McGrah</td>\n",
       "      <td>emcgrahdr@wiley.com</td>\n",
       "      <td>3.540370e+15</td>\n",
       "      <td>$737.25M</td>\n",
       "    </tr>\n",
       "    <tr>\n",
       "      <th>415</th>\n",
       "      <td>43-6100877</td>\n",
       "      <td>Abbie</td>\n",
       "      <td>Commuzzo</td>\n",
       "      <td>acommuzzods@multiply.com</td>\n",
       "      <td>3.579190e+15</td>\n",
       "      <td>$667.73M</td>\n",
       "    </tr>\n",
       "    <tr>\n",
       "      <th>416</th>\n",
       "      <td>26-4693933</td>\n",
       "      <td>Justine</td>\n",
       "      <td>Mitten</td>\n",
       "      <td>jmittendt@facebook.com</td>\n",
       "      <td>4.508960e+15</td>\n",
       "      <td>$2.13B</td>\n",
       "    </tr>\n",
       "    <tr>\n",
       "      <th>417</th>\n",
       "      <td>61-7814288</td>\n",
       "      <td>Hirsch</td>\n",
       "      <td>Jerdon</td>\n",
       "      <td>hjerdondu@baidu.com</td>\n",
       "      <td>3.561460e+15</td>\n",
       "      <td>$2.77B</td>\n",
       "    </tr>\n",
       "    <tr>\n",
       "      <th>418</th>\n",
       "      <td>69-6023438</td>\n",
       "      <td>Clayborne</td>\n",
       "      <td>Grosier</td>\n",
       "      <td>cgrosierdv@constantcontact.com</td>\n",
       "      <td>5.602230e+15</td>\n",
       "      <td>$42.49M</td>\n",
       "    </tr>\n",
       "  </tbody>\n",
       "</table>\n",
       "<p>419 rows × 6 columns</p>\n",
       "</div>"
      ],
      "text/plain": [
       "    Account_Num First_Name Last_Name                           Email  \\\n",
       "0    19-9089842      Melli    Devote              mdevote0@globo.com   \n",
       "1    14-3382564      Paulo  Freiberg              pfreiberg1@usa.gov   \n",
       "2    21-9295986      Alain       Gay                   agay2@wix.com   \n",
       "3    78-7512467       Tore    Subhan                tsubhan3@ibm.com   \n",
       "4    90-5975226     Damien     Klais             dklais4@tinypic.com   \n",
       "..          ...        ...       ...                             ...   \n",
       "414  48-9832025    Eolande    McGrah             emcgrahdr@wiley.com   \n",
       "415  43-6100877      Abbie  Commuzzo        acommuzzods@multiply.com   \n",
       "416  26-4693933    Justine    Mitten          jmittendt@facebook.com   \n",
       "417  61-7814288     Hirsch    Jerdon             hjerdondu@baidu.com   \n",
       "418  69-6023438  Clayborne   Grosier  cgrosierdv@constantcontact.com   \n",
       "\n",
       "           CC_Num Current_Bal  \n",
       "0    2.018020e+14      $3.68B  \n",
       "1    6.334730e+17     $42.28M  \n",
       "2    3.553910e+15      $2.59B  \n",
       "3    5.893750e+18     $193.2M  \n",
       "4    6.706640e+18    $187.49M  \n",
       "..            ...         ...  \n",
       "414  3.540370e+15    $737.25M  \n",
       "415  3.579190e+15    $667.73M  \n",
       "416  4.508960e+15      $2.13B  \n",
       "417  3.561460e+15      $2.77B  \n",
       "418  5.602230e+15     $42.49M  \n",
       "\n",
       "[419 rows x 6 columns]"
      ]
     },
     "execution_count": 8,
     "metadata": {},
     "output_type": "execute_result"
    }
   ],
   "source": [
    "#show\n",
    "file1"
   ]
  },
  {
   "cell_type": "code",
   "execution_count": 9,
   "id": "bfc6c5fc-1034-4c2c-8b64-7d470be5a2aa",
   "metadata": {},
   "outputs": [
    {
     "data": {
      "text/html": [
       "<div>\n",
       "<style scoped>\n",
       "    .dataframe tbody tr th:only-of-type {\n",
       "        vertical-align: middle;\n",
       "    }\n",
       "\n",
       "    .dataframe tbody tr th {\n",
       "        vertical-align: top;\n",
       "    }\n",
       "\n",
       "    .dataframe thead th {\n",
       "        text-align: right;\n",
       "    }\n",
       "</style>\n",
       "<table border=\"1\" class=\"dataframe\">\n",
       "  <thead>\n",
       "    <tr style=\"text-align: right;\">\n",
       "      <th></th>\n",
       "      <th>Account_Num</th>\n",
       "      <th>First_Name</th>\n",
       "      <th>Last_Name</th>\n",
       "      <th>Email</th>\n",
       "      <th>CC_Num</th>\n",
       "      <th>Current_Bal</th>\n",
       "    </tr>\n",
       "  </thead>\n",
       "  <tbody>\n",
       "    <tr>\n",
       "      <th>0</th>\n",
       "      <td>88-067-8282</td>\n",
       "      <td>Alvy</td>\n",
       "      <td>Benech</td>\n",
       "      <td>abenechgg@unicef.org</td>\n",
       "      <td>3.540000e+15</td>\n",
       "      <td>$4.97B</td>\n",
       "    </tr>\n",
       "    <tr>\n",
       "      <th>1</th>\n",
       "      <td>87-164-1431</td>\n",
       "      <td>Adler</td>\n",
       "      <td>Ferney</td>\n",
       "      <td>aferneygh@networksolutions.com</td>\n",
       "      <td>3.560000e+15</td>\n",
       "      <td>$96.78M</td>\n",
       "    </tr>\n",
       "    <tr>\n",
       "      <th>2</th>\n",
       "      <td>45-727-7483</td>\n",
       "      <td>Colet</td>\n",
       "      <td>Bartaloni</td>\n",
       "      <td>cbartalonigi@ted.com</td>\n",
       "      <td>5.610000e+16</td>\n",
       "      <td>$68.78M</td>\n",
       "    </tr>\n",
       "    <tr>\n",
       "      <th>3</th>\n",
       "      <td>35-250-7814</td>\n",
       "      <td>Jennie</td>\n",
       "      <td>Leddie</td>\n",
       "      <td>jleddiegj@wufoo.com</td>\n",
       "      <td>3.530000e+15</td>\n",
       "      <td>$404.02M</td>\n",
       "    </tr>\n",
       "    <tr>\n",
       "      <th>4</th>\n",
       "      <td>32-197-8907</td>\n",
       "      <td>Alexandro</td>\n",
       "      <td>Blanning</td>\n",
       "      <td>ablanninggk@toplist.cz</td>\n",
       "      <td>4.900000e+15</td>\n",
       "      <td>$710.31M</td>\n",
       "    </tr>\n",
       "    <tr>\n",
       "      <th>...</th>\n",
       "      <td>...</td>\n",
       "      <td>...</td>\n",
       "      <td>...</td>\n",
       "      <td>...</td>\n",
       "      <td>...</td>\n",
       "      <td>...</td>\n",
       "    </tr>\n",
       "    <tr>\n",
       "      <th>351</th>\n",
       "      <td>56-195-8939</td>\n",
       "      <td>Anthiathia</td>\n",
       "      <td>Compton</td>\n",
       "      <td>acomptonrm@digg.com</td>\n",
       "      <td>6.380000e+15</td>\n",
       "      <td>$26.26M</td>\n",
       "    </tr>\n",
       "    <tr>\n",
       "      <th>352</th>\n",
       "      <td>43-901-0427</td>\n",
       "      <td>Ros</td>\n",
       "      <td>Caldayrou</td>\n",
       "      <td>rcaldayrouro@apache.org</td>\n",
       "      <td>3.740000e+14</td>\n",
       "      <td>$111.6M</td>\n",
       "    </tr>\n",
       "    <tr>\n",
       "      <th>353</th>\n",
       "      <td>09-314-1492</td>\n",
       "      <td>Janetta</td>\n",
       "      <td>Mc Gorley</td>\n",
       "      <td>jmcgorleyrp@purevolume.com</td>\n",
       "      <td>3.550000e+15</td>\n",
       "      <td>$526.1M</td>\n",
       "    </tr>\n",
       "    <tr>\n",
       "      <th>354</th>\n",
       "      <td>43-216-7462</td>\n",
       "      <td>Leshia</td>\n",
       "      <td>Bow</td>\n",
       "      <td>lbowrq@youku.com</td>\n",
       "      <td>3.570000e+15</td>\n",
       "      <td>$1.29B</td>\n",
       "    </tr>\n",
       "    <tr>\n",
       "      <th>355</th>\n",
       "      <td>49-914-6463</td>\n",
       "      <td>Alex</td>\n",
       "      <td>Bocke</td>\n",
       "      <td>abockerr@phpbb.com</td>\n",
       "      <td>3.750000e+14</td>\n",
       "      <td>$610.36M</td>\n",
       "    </tr>\n",
       "  </tbody>\n",
       "</table>\n",
       "<p>356 rows × 6 columns</p>\n",
       "</div>"
      ],
      "text/plain": [
       "     Account_Num  First_Name  Last_Name                           Email  \\\n",
       "0    88-067-8282        Alvy     Benech            abenechgg@unicef.org   \n",
       "1    87-164-1431       Adler     Ferney  aferneygh@networksolutions.com   \n",
       "2    45-727-7483       Colet  Bartaloni            cbartalonigi@ted.com   \n",
       "3    35-250-7814      Jennie     Leddie             jleddiegj@wufoo.com   \n",
       "4    32-197-8907   Alexandro   Blanning          ablanninggk@toplist.cz   \n",
       "..           ...         ...        ...                             ...   \n",
       "351  56-195-8939  Anthiathia    Compton             acomptonrm@digg.com   \n",
       "352  43-901-0427         Ros  Caldayrou         rcaldayrouro@apache.org   \n",
       "353  09-314-1492     Janetta  Mc Gorley      jmcgorleyrp@purevolume.com   \n",
       "354  43-216-7462      Leshia        Bow                lbowrq@youku.com   \n",
       "355  49-914-6463        Alex      Bocke              abockerr@phpbb.com   \n",
       "\n",
       "           CC_Num Current_Bal  \n",
       "0    3.540000e+15      $4.97B  \n",
       "1    3.560000e+15     $96.78M  \n",
       "2    5.610000e+16     $68.78M  \n",
       "3    3.530000e+15    $404.02M  \n",
       "4    4.900000e+15    $710.31M  \n",
       "..            ...         ...  \n",
       "351  6.380000e+15     $26.26M  \n",
       "352  3.740000e+14     $111.6M  \n",
       "353  3.550000e+15     $526.1M  \n",
       "354  3.570000e+15      $1.29B  \n",
       "355  3.750000e+14    $610.36M  \n",
       "\n",
       "[356 rows x 6 columns]"
      ]
     },
     "execution_count": 9,
     "metadata": {},
     "output_type": "execute_result"
    }
   ],
   "source": [
    "#show\n",
    "file2"
   ]
  },
  {
   "cell_type": "markdown",
   "id": "1ac8990e",
   "metadata": {
    "id": "1ac8990e"
   },
   "source": [
    "**Step 3: Create a new variable for output.** \n",
    "\n",
    "Create a new variable of your choice that contains the merge function: `pd.merge(df1, df2, on='')`. Merge on the `Account_Num` column."
   ]
  },
  {
   "cell_type": "code",
   "execution_count": 11,
   "id": "fbe33c5f",
   "metadata": {
    "id": "fbe33c5f"
   },
   "outputs": [],
   "source": [
    "file3 = pd.merge(file1, file2, on='Account_Num')"
   ]
  },
  {
   "cell_type": "markdown",
   "id": "70bcbaa4",
   "metadata": {
    "id": "70bcbaa4"
   },
   "source": [
    "**Step 4: Print the output.**\n",
    "\n",
    "Use the print function on your output variable to ensure the join was completed. "
   ]
  },
  {
   "cell_type": "code",
   "execution_count": 15,
   "id": "4552f1c4",
   "metadata": {
    "id": "4552f1c4"
   },
   "outputs": [
    {
     "name": "stdout",
     "output_type": "stream",
     "text": [
      "Empty DataFrame\n",
      "Columns: [Account_Num, First_Name_x, Last_Name_x, Email_x, CC_Num_x, Current_Bal_x, First_Name_y, Last_Name_y, Email_y, CC_Num_y, Current_Bal_y]\n",
      "Index: []\n"
     ]
    }
   ],
   "source": [
    "file3"
   ]
  },
  {
   "cell_type": "markdown",
   "id": "8c2a4c04",
   "metadata": {
    "id": "8c2a4c04"
   },
   "source": [
    "**Question 1:** What is the output and why did it happen?"
   ]
  },
  {
   "cell_type": "markdown",
   "id": "hR5-WfgcS4ct",
   "metadata": {
    "id": "hR5-WfgcS4ct"
   },
   "source": [
    "**Answer:** *Your answer here*"
   ]
  },
  {
   "cell_type": "markdown",
   "id": "63cb2ce0",
   "metadata": {
    "id": "63cb2ce0"
   },
   "source": [
    "**Step 5: Create an inner join.**\n",
    "\n",
    "Re-write your merge statement to include `pd.merge(df1, df2, on='', how='inner')`. Print the output again."
   ]
  },
  {
   "cell_type": "code",
   "execution_count": 17,
   "id": "5073ae3a",
   "metadata": {
    "id": "5073ae3a"
   },
   "outputs": [],
   "source": [
    "file3 = pd.merge(file1, file2, on='Account_Num', how ='inner')"
   ]
  },
  {
   "cell_type": "code",
   "execution_count": 19,
   "id": "a7643151-2247-4a57-b370-b8bd2080aa68",
   "metadata": {},
   "outputs": [
    {
     "data": {
      "text/html": [
       "<div>\n",
       "<style scoped>\n",
       "    .dataframe tbody tr th:only-of-type {\n",
       "        vertical-align: middle;\n",
       "    }\n",
       "\n",
       "    .dataframe tbody tr th {\n",
       "        vertical-align: top;\n",
       "    }\n",
       "\n",
       "    .dataframe thead th {\n",
       "        text-align: right;\n",
       "    }\n",
       "</style>\n",
       "<table border=\"1\" class=\"dataframe\">\n",
       "  <thead>\n",
       "    <tr style=\"text-align: right;\">\n",
       "      <th></th>\n",
       "      <th>Account_Num</th>\n",
       "      <th>First_Name_x</th>\n",
       "      <th>Last_Name_x</th>\n",
       "      <th>Email_x</th>\n",
       "      <th>CC_Num_x</th>\n",
       "      <th>Current_Bal_x</th>\n",
       "      <th>First_Name_y</th>\n",
       "      <th>Last_Name_y</th>\n",
       "      <th>Email_y</th>\n",
       "      <th>CC_Num_y</th>\n",
       "      <th>Current_Bal_y</th>\n",
       "    </tr>\n",
       "  </thead>\n",
       "  <tbody>\n",
       "  </tbody>\n",
       "</table>\n",
       "</div>"
      ],
      "text/plain": [
       "Empty DataFrame\n",
       "Columns: [Account_Num, First_Name_x, Last_Name_x, Email_x, CC_Num_x, Current_Bal_x, First_Name_y, Last_Name_y, Email_y, CC_Num_y, Current_Bal_y]\n",
       "Index: []"
      ]
     },
     "execution_count": 19,
     "metadata": {},
     "output_type": "execute_result"
    }
   ],
   "source": [
    "file3"
   ]
  },
  {
   "cell_type": "code",
   "execution_count": 20,
   "id": "fa52a9f2-d7e2-476f-bc23-d0b483ceb741",
   "metadata": {},
   "outputs": [],
   "source": [
    "file3 = pd.merge(file1, file2, on='Account_Num', how ='outer')"
   ]
  },
  {
   "cell_type": "code",
   "execution_count": 21,
   "id": "67ce94bf-f3c0-4604-9096-96864778bf99",
   "metadata": {},
   "outputs": [
    {
     "data": {
      "text/html": [
       "<div>\n",
       "<style scoped>\n",
       "    .dataframe tbody tr th:only-of-type {\n",
       "        vertical-align: middle;\n",
       "    }\n",
       "\n",
       "    .dataframe tbody tr th {\n",
       "        vertical-align: top;\n",
       "    }\n",
       "\n",
       "    .dataframe thead th {\n",
       "        text-align: right;\n",
       "    }\n",
       "</style>\n",
       "<table border=\"1\" class=\"dataframe\">\n",
       "  <thead>\n",
       "    <tr style=\"text-align: right;\">\n",
       "      <th></th>\n",
       "      <th>Account_Num</th>\n",
       "      <th>First_Name_x</th>\n",
       "      <th>Last_Name_x</th>\n",
       "      <th>Email_x</th>\n",
       "      <th>CC_Num_x</th>\n",
       "      <th>Current_Bal_x</th>\n",
       "      <th>First_Name_y</th>\n",
       "      <th>Last_Name_y</th>\n",
       "      <th>Email_y</th>\n",
       "      <th>CC_Num_y</th>\n",
       "      <th>Current_Bal_y</th>\n",
       "    </tr>\n",
       "  </thead>\n",
       "  <tbody>\n",
       "    <tr>\n",
       "      <th>0</th>\n",
       "      <td>19-9089842</td>\n",
       "      <td>Melli</td>\n",
       "      <td>Devote</td>\n",
       "      <td>mdevote0@globo.com</td>\n",
       "      <td>2.018020e+14</td>\n",
       "      <td>$3.68B</td>\n",
       "      <td>NaN</td>\n",
       "      <td>NaN</td>\n",
       "      <td>NaN</td>\n",
       "      <td>NaN</td>\n",
       "      <td>NaN</td>\n",
       "    </tr>\n",
       "    <tr>\n",
       "      <th>1</th>\n",
       "      <td>14-3382564</td>\n",
       "      <td>Paulo</td>\n",
       "      <td>Freiberg</td>\n",
       "      <td>pfreiberg1@usa.gov</td>\n",
       "      <td>6.334730e+17</td>\n",
       "      <td>$42.28M</td>\n",
       "      <td>NaN</td>\n",
       "      <td>NaN</td>\n",
       "      <td>NaN</td>\n",
       "      <td>NaN</td>\n",
       "      <td>NaN</td>\n",
       "    </tr>\n",
       "    <tr>\n",
       "      <th>2</th>\n",
       "      <td>21-9295986</td>\n",
       "      <td>Alain</td>\n",
       "      <td>Gay</td>\n",
       "      <td>agay2@wix.com</td>\n",
       "      <td>3.553910e+15</td>\n",
       "      <td>$2.59B</td>\n",
       "      <td>NaN</td>\n",
       "      <td>NaN</td>\n",
       "      <td>NaN</td>\n",
       "      <td>NaN</td>\n",
       "      <td>NaN</td>\n",
       "    </tr>\n",
       "    <tr>\n",
       "      <th>3</th>\n",
       "      <td>78-7512467</td>\n",
       "      <td>Tore</td>\n",
       "      <td>Subhan</td>\n",
       "      <td>tsubhan3@ibm.com</td>\n",
       "      <td>5.893750e+18</td>\n",
       "      <td>$193.2M</td>\n",
       "      <td>NaN</td>\n",
       "      <td>NaN</td>\n",
       "      <td>NaN</td>\n",
       "      <td>NaN</td>\n",
       "      <td>NaN</td>\n",
       "    </tr>\n",
       "    <tr>\n",
       "      <th>4</th>\n",
       "      <td>90-5975226</td>\n",
       "      <td>Damien</td>\n",
       "      <td>Klais</td>\n",
       "      <td>dklais4@tinypic.com</td>\n",
       "      <td>6.706640e+18</td>\n",
       "      <td>$187.49M</td>\n",
       "      <td>NaN</td>\n",
       "      <td>NaN</td>\n",
       "      <td>NaN</td>\n",
       "      <td>NaN</td>\n",
       "      <td>NaN</td>\n",
       "    </tr>\n",
       "    <tr>\n",
       "      <th>...</th>\n",
       "      <td>...</td>\n",
       "      <td>...</td>\n",
       "      <td>...</td>\n",
       "      <td>...</td>\n",
       "      <td>...</td>\n",
       "      <td>...</td>\n",
       "      <td>...</td>\n",
       "      <td>...</td>\n",
       "      <td>...</td>\n",
       "      <td>...</td>\n",
       "      <td>...</td>\n",
       "    </tr>\n",
       "    <tr>\n",
       "      <th>770</th>\n",
       "      <td>56-195-8939</td>\n",
       "      <td>NaN</td>\n",
       "      <td>NaN</td>\n",
       "      <td>NaN</td>\n",
       "      <td>NaN</td>\n",
       "      <td>NaN</td>\n",
       "      <td>Anthiathia</td>\n",
       "      <td>Compton</td>\n",
       "      <td>acomptonrm@digg.com</td>\n",
       "      <td>6.380000e+15</td>\n",
       "      <td>$26.26M</td>\n",
       "    </tr>\n",
       "    <tr>\n",
       "      <th>771</th>\n",
       "      <td>43-901-0427</td>\n",
       "      <td>NaN</td>\n",
       "      <td>NaN</td>\n",
       "      <td>NaN</td>\n",
       "      <td>NaN</td>\n",
       "      <td>NaN</td>\n",
       "      <td>Ros</td>\n",
       "      <td>Caldayrou</td>\n",
       "      <td>rcaldayrouro@apache.org</td>\n",
       "      <td>3.740000e+14</td>\n",
       "      <td>$111.6M</td>\n",
       "    </tr>\n",
       "    <tr>\n",
       "      <th>772</th>\n",
       "      <td>09-314-1492</td>\n",
       "      <td>NaN</td>\n",
       "      <td>NaN</td>\n",
       "      <td>NaN</td>\n",
       "      <td>NaN</td>\n",
       "      <td>NaN</td>\n",
       "      <td>Janetta</td>\n",
       "      <td>Mc Gorley</td>\n",
       "      <td>jmcgorleyrp@purevolume.com</td>\n",
       "      <td>3.550000e+15</td>\n",
       "      <td>$526.1M</td>\n",
       "    </tr>\n",
       "    <tr>\n",
       "      <th>773</th>\n",
       "      <td>43-216-7462</td>\n",
       "      <td>NaN</td>\n",
       "      <td>NaN</td>\n",
       "      <td>NaN</td>\n",
       "      <td>NaN</td>\n",
       "      <td>NaN</td>\n",
       "      <td>Leshia</td>\n",
       "      <td>Bow</td>\n",
       "      <td>lbowrq@youku.com</td>\n",
       "      <td>3.570000e+15</td>\n",
       "      <td>$1.29B</td>\n",
       "    </tr>\n",
       "    <tr>\n",
       "      <th>774</th>\n",
       "      <td>49-914-6463</td>\n",
       "      <td>NaN</td>\n",
       "      <td>NaN</td>\n",
       "      <td>NaN</td>\n",
       "      <td>NaN</td>\n",
       "      <td>NaN</td>\n",
       "      <td>Alex</td>\n",
       "      <td>Bocke</td>\n",
       "      <td>abockerr@phpbb.com</td>\n",
       "      <td>3.750000e+14</td>\n",
       "      <td>$610.36M</td>\n",
       "    </tr>\n",
       "  </tbody>\n",
       "</table>\n",
       "<p>775 rows × 11 columns</p>\n",
       "</div>"
      ],
      "text/plain": [
       "     Account_Num First_Name_x Last_Name_x              Email_x      CC_Num_x  \\\n",
       "0     19-9089842        Melli      Devote   mdevote0@globo.com  2.018020e+14   \n",
       "1     14-3382564        Paulo    Freiberg   pfreiberg1@usa.gov  6.334730e+17   \n",
       "2     21-9295986        Alain         Gay        agay2@wix.com  3.553910e+15   \n",
       "3     78-7512467         Tore      Subhan     tsubhan3@ibm.com  5.893750e+18   \n",
       "4     90-5975226       Damien       Klais  dklais4@tinypic.com  6.706640e+18   \n",
       "..           ...          ...         ...                  ...           ...   \n",
       "770  56-195-8939          NaN         NaN                  NaN           NaN   \n",
       "771  43-901-0427          NaN         NaN                  NaN           NaN   \n",
       "772  09-314-1492          NaN         NaN                  NaN           NaN   \n",
       "773  43-216-7462          NaN         NaN                  NaN           NaN   \n",
       "774  49-914-6463          NaN         NaN                  NaN           NaN   \n",
       "\n",
       "    Current_Bal_x First_Name_y Last_Name_y                     Email_y  \\\n",
       "0          $3.68B          NaN         NaN                         NaN   \n",
       "1         $42.28M          NaN         NaN                         NaN   \n",
       "2          $2.59B          NaN         NaN                         NaN   \n",
       "3         $193.2M          NaN         NaN                         NaN   \n",
       "4        $187.49M          NaN         NaN                         NaN   \n",
       "..            ...          ...         ...                         ...   \n",
       "770           NaN   Anthiathia     Compton         acomptonrm@digg.com   \n",
       "771           NaN          Ros   Caldayrou     rcaldayrouro@apache.org   \n",
       "772           NaN      Janetta   Mc Gorley  jmcgorleyrp@purevolume.com   \n",
       "773           NaN       Leshia         Bow            lbowrq@youku.com   \n",
       "774           NaN         Alex       Bocke          abockerr@phpbb.com   \n",
       "\n",
       "         CC_Num_y Current_Bal_y  \n",
       "0             NaN           NaN  \n",
       "1             NaN           NaN  \n",
       "2             NaN           NaN  \n",
       "3             NaN           NaN  \n",
       "4             NaN           NaN  \n",
       "..            ...           ...  \n",
       "770  6.380000e+15       $26.26M  \n",
       "771  3.740000e+14       $111.6M  \n",
       "772  3.550000e+15       $526.1M  \n",
       "773  3.570000e+15        $1.29B  \n",
       "774  3.750000e+14      $610.36M  \n",
       "\n",
       "[775 rows x 11 columns]"
      ]
     },
     "execution_count": 21,
     "metadata": {},
     "output_type": "execute_result"
    }
   ],
   "source": [
    "file3"
   ]
  },
  {
   "cell_type": "markdown",
   "id": "41812902",
   "metadata": {
    "id": "41812902"
   },
   "source": [
    "**Question 2:** Is this the same or different from the output created in step 4?"
   ]
  },
  {
   "cell_type": "markdown",
   "id": "JeRVeXYKuKPo",
   "metadata": {
    "id": "JeRVeXYKuKPo"
   },
   "source": [
    "**Answer:** *Your answer here*"
   ]
  },
  {
   "cell_type": "markdown",
   "id": "11b622ac",
   "metadata": {
    "id": "11b622ac"
   },
   "source": [
    "*The default type of join for `pd.merge()` is an inner join. If you don't specify a type of join, Pandas will assume you meant an inner join.*"
   ]
  },
  {
   "cell_type": "markdown",
   "id": "4b68ff38",
   "metadata": {
    "id": "4b68ff38"
   },
   "source": [
    "**Step 6: Create a left outer join.** \n",
    "\n",
    "Re-write your merge statement to include `how='left'`. Print the output again. \n",
    "\n",
    "**Question 3:** What output do you expect?"
   ]
  },
  {
   "cell_type": "markdown",
   "id": "ospFfkcsuUhI",
   "metadata": {
    "id": "ospFfkcsuUhI"
   },
   "source": [
    "**Answer:** *Your answer here*"
   ]
  },
  {
   "cell_type": "code",
   "execution_count": 22,
   "id": "a39de4b8-e813-4ddf-b6fb-2ebd6412d616",
   "metadata": {},
   "outputs": [],
   "source": [
    "file3 = pd.merge(file1, file2, on='Account_Num', how ='left')"
   ]
  },
  {
   "cell_type": "code",
   "execution_count": 23,
   "id": "e1b4b01f",
   "metadata": {
    "id": "e1b4b01f"
   },
   "outputs": [
    {
     "data": {
      "text/html": [
       "<div>\n",
       "<style scoped>\n",
       "    .dataframe tbody tr th:only-of-type {\n",
       "        vertical-align: middle;\n",
       "    }\n",
       "\n",
       "    .dataframe tbody tr th {\n",
       "        vertical-align: top;\n",
       "    }\n",
       "\n",
       "    .dataframe thead th {\n",
       "        text-align: right;\n",
       "    }\n",
       "</style>\n",
       "<table border=\"1\" class=\"dataframe\">\n",
       "  <thead>\n",
       "    <tr style=\"text-align: right;\">\n",
       "      <th></th>\n",
       "      <th>Account_Num</th>\n",
       "      <th>First_Name_x</th>\n",
       "      <th>Last_Name_x</th>\n",
       "      <th>Email_x</th>\n",
       "      <th>CC_Num_x</th>\n",
       "      <th>Current_Bal_x</th>\n",
       "      <th>First_Name_y</th>\n",
       "      <th>Last_Name_y</th>\n",
       "      <th>Email_y</th>\n",
       "      <th>CC_Num_y</th>\n",
       "      <th>Current_Bal_y</th>\n",
       "    </tr>\n",
       "  </thead>\n",
       "  <tbody>\n",
       "    <tr>\n",
       "      <th>0</th>\n",
       "      <td>19-9089842</td>\n",
       "      <td>Melli</td>\n",
       "      <td>Devote</td>\n",
       "      <td>mdevote0@globo.com</td>\n",
       "      <td>2.018020e+14</td>\n",
       "      <td>$3.68B</td>\n",
       "      <td>NaN</td>\n",
       "      <td>NaN</td>\n",
       "      <td>NaN</td>\n",
       "      <td>NaN</td>\n",
       "      <td>NaN</td>\n",
       "    </tr>\n",
       "    <tr>\n",
       "      <th>1</th>\n",
       "      <td>14-3382564</td>\n",
       "      <td>Paulo</td>\n",
       "      <td>Freiberg</td>\n",
       "      <td>pfreiberg1@usa.gov</td>\n",
       "      <td>6.334730e+17</td>\n",
       "      <td>$42.28M</td>\n",
       "      <td>NaN</td>\n",
       "      <td>NaN</td>\n",
       "      <td>NaN</td>\n",
       "      <td>NaN</td>\n",
       "      <td>NaN</td>\n",
       "    </tr>\n",
       "    <tr>\n",
       "      <th>2</th>\n",
       "      <td>21-9295986</td>\n",
       "      <td>Alain</td>\n",
       "      <td>Gay</td>\n",
       "      <td>agay2@wix.com</td>\n",
       "      <td>3.553910e+15</td>\n",
       "      <td>$2.59B</td>\n",
       "      <td>NaN</td>\n",
       "      <td>NaN</td>\n",
       "      <td>NaN</td>\n",
       "      <td>NaN</td>\n",
       "      <td>NaN</td>\n",
       "    </tr>\n",
       "    <tr>\n",
       "      <th>3</th>\n",
       "      <td>78-7512467</td>\n",
       "      <td>Tore</td>\n",
       "      <td>Subhan</td>\n",
       "      <td>tsubhan3@ibm.com</td>\n",
       "      <td>5.893750e+18</td>\n",
       "      <td>$193.2M</td>\n",
       "      <td>NaN</td>\n",
       "      <td>NaN</td>\n",
       "      <td>NaN</td>\n",
       "      <td>NaN</td>\n",
       "      <td>NaN</td>\n",
       "    </tr>\n",
       "    <tr>\n",
       "      <th>4</th>\n",
       "      <td>90-5975226</td>\n",
       "      <td>Damien</td>\n",
       "      <td>Klais</td>\n",
       "      <td>dklais4@tinypic.com</td>\n",
       "      <td>6.706640e+18</td>\n",
       "      <td>$187.49M</td>\n",
       "      <td>NaN</td>\n",
       "      <td>NaN</td>\n",
       "      <td>NaN</td>\n",
       "      <td>NaN</td>\n",
       "      <td>NaN</td>\n",
       "    </tr>\n",
       "    <tr>\n",
       "      <th>...</th>\n",
       "      <td>...</td>\n",
       "      <td>...</td>\n",
       "      <td>...</td>\n",
       "      <td>...</td>\n",
       "      <td>...</td>\n",
       "      <td>...</td>\n",
       "      <td>...</td>\n",
       "      <td>...</td>\n",
       "      <td>...</td>\n",
       "      <td>...</td>\n",
       "      <td>...</td>\n",
       "    </tr>\n",
       "    <tr>\n",
       "      <th>414</th>\n",
       "      <td>48-9832025</td>\n",
       "      <td>Eolande</td>\n",
       "      <td>McGrah</td>\n",
       "      <td>emcgrahdr@wiley.com</td>\n",
       "      <td>3.540370e+15</td>\n",
       "      <td>$737.25M</td>\n",
       "      <td>NaN</td>\n",
       "      <td>NaN</td>\n",
       "      <td>NaN</td>\n",
       "      <td>NaN</td>\n",
       "      <td>NaN</td>\n",
       "    </tr>\n",
       "    <tr>\n",
       "      <th>415</th>\n",
       "      <td>43-6100877</td>\n",
       "      <td>Abbie</td>\n",
       "      <td>Commuzzo</td>\n",
       "      <td>acommuzzods@multiply.com</td>\n",
       "      <td>3.579190e+15</td>\n",
       "      <td>$667.73M</td>\n",
       "      <td>NaN</td>\n",
       "      <td>NaN</td>\n",
       "      <td>NaN</td>\n",
       "      <td>NaN</td>\n",
       "      <td>NaN</td>\n",
       "    </tr>\n",
       "    <tr>\n",
       "      <th>416</th>\n",
       "      <td>26-4693933</td>\n",
       "      <td>Justine</td>\n",
       "      <td>Mitten</td>\n",
       "      <td>jmittendt@facebook.com</td>\n",
       "      <td>4.508960e+15</td>\n",
       "      <td>$2.13B</td>\n",
       "      <td>NaN</td>\n",
       "      <td>NaN</td>\n",
       "      <td>NaN</td>\n",
       "      <td>NaN</td>\n",
       "      <td>NaN</td>\n",
       "    </tr>\n",
       "    <tr>\n",
       "      <th>417</th>\n",
       "      <td>61-7814288</td>\n",
       "      <td>Hirsch</td>\n",
       "      <td>Jerdon</td>\n",
       "      <td>hjerdondu@baidu.com</td>\n",
       "      <td>3.561460e+15</td>\n",
       "      <td>$2.77B</td>\n",
       "      <td>NaN</td>\n",
       "      <td>NaN</td>\n",
       "      <td>NaN</td>\n",
       "      <td>NaN</td>\n",
       "      <td>NaN</td>\n",
       "    </tr>\n",
       "    <tr>\n",
       "      <th>418</th>\n",
       "      <td>69-6023438</td>\n",
       "      <td>Clayborne</td>\n",
       "      <td>Grosier</td>\n",
       "      <td>cgrosierdv@constantcontact.com</td>\n",
       "      <td>5.602230e+15</td>\n",
       "      <td>$42.49M</td>\n",
       "      <td>NaN</td>\n",
       "      <td>NaN</td>\n",
       "      <td>NaN</td>\n",
       "      <td>NaN</td>\n",
       "      <td>NaN</td>\n",
       "    </tr>\n",
       "  </tbody>\n",
       "</table>\n",
       "<p>419 rows × 11 columns</p>\n",
       "</div>"
      ],
      "text/plain": [
       "    Account_Num First_Name_x Last_Name_x                         Email_x  \\\n",
       "0    19-9089842        Melli      Devote              mdevote0@globo.com   \n",
       "1    14-3382564        Paulo    Freiberg              pfreiberg1@usa.gov   \n",
       "2    21-9295986        Alain         Gay                   agay2@wix.com   \n",
       "3    78-7512467         Tore      Subhan                tsubhan3@ibm.com   \n",
       "4    90-5975226       Damien       Klais             dklais4@tinypic.com   \n",
       "..          ...          ...         ...                             ...   \n",
       "414  48-9832025      Eolande      McGrah             emcgrahdr@wiley.com   \n",
       "415  43-6100877        Abbie    Commuzzo        acommuzzods@multiply.com   \n",
       "416  26-4693933      Justine      Mitten          jmittendt@facebook.com   \n",
       "417  61-7814288       Hirsch      Jerdon             hjerdondu@baidu.com   \n",
       "418  69-6023438    Clayborne     Grosier  cgrosierdv@constantcontact.com   \n",
       "\n",
       "         CC_Num_x Current_Bal_x First_Name_y Last_Name_y Email_y  CC_Num_y  \\\n",
       "0    2.018020e+14        $3.68B          NaN         NaN     NaN       NaN   \n",
       "1    6.334730e+17       $42.28M          NaN         NaN     NaN       NaN   \n",
       "2    3.553910e+15        $2.59B          NaN         NaN     NaN       NaN   \n",
       "3    5.893750e+18       $193.2M          NaN         NaN     NaN       NaN   \n",
       "4    6.706640e+18      $187.49M          NaN         NaN     NaN       NaN   \n",
       "..            ...           ...          ...         ...     ...       ...   \n",
       "414  3.540370e+15      $737.25M          NaN         NaN     NaN       NaN   \n",
       "415  3.579190e+15      $667.73M          NaN         NaN     NaN       NaN   \n",
       "416  4.508960e+15        $2.13B          NaN         NaN     NaN       NaN   \n",
       "417  3.561460e+15        $2.77B          NaN         NaN     NaN       NaN   \n",
       "418  5.602230e+15       $42.49M          NaN         NaN     NaN       NaN   \n",
       "\n",
       "    Current_Bal_y  \n",
       "0             NaN  \n",
       "1             NaN  \n",
       "2             NaN  \n",
       "3             NaN  \n",
       "4             NaN  \n",
       "..            ...  \n",
       "414           NaN  \n",
       "415           NaN  \n",
       "416           NaN  \n",
       "417           NaN  \n",
       "418           NaN  \n",
       "\n",
       "[419 rows x 11 columns]"
      ]
     },
     "execution_count": 23,
     "metadata": {},
     "output_type": "execute_result"
    }
   ],
   "source": [
    "file3"
   ]
  },
  {
   "cell_type": "markdown",
   "id": "a94ae133",
   "metadata": {
    "id": "a94ae133"
   },
   "source": [
    "**Question 4:** Why are there NaN values here?"
   ]
  },
  {
   "cell_type": "markdown",
   "id": "KNz72wm8udMk",
   "metadata": {
    "id": "KNz72wm8udMk"
   },
   "source": [
    "**Answer:** *Your answer here*"
   ]
  },
  {
   "cell_type": "markdown",
   "id": "f1f43e0d",
   "metadata": {
    "id": "f1f43e0d"
   },
   "source": [
    "**Step 7: Create a full outer join.**\n",
    "\n",
    "Re-write your merge statement to include `how='outer'`. Print the output again."
   ]
  },
  {
   "cell_type": "code",
   "execution_count": null,
   "id": "1422bd4f",
   "metadata": {
    "id": "1422bd4f"
   },
   "outputs": [],
   "source": [
    "file3 = pd.merge(file1, file2, on='Account_Num', how ='outer')"
   ]
  },
  {
   "cell_type": "markdown",
   "id": "e71907bd",
   "metadata": {
    "id": "e71907bd"
   },
   "source": [
    "**Question 5:** Which join produces a file that shows us the client information we need to know?"
   ]
  },
  {
   "cell_type": "markdown",
   "id": "AWnfXd5HuhfA",
   "metadata": {
    "id": "AWnfXd5HuhfA"
   },
   "source": [
    "**Answer:** *Your answer here*"
   ]
  },
  {
   "cell_type": "markdown",
   "id": "5be3203f",
   "metadata": {
    "id": "5be3203f"
   },
   "source": [
    "# Independent Activity: Creating a For Loop\n",
    "\n",
    "Work through this next activity to create a `for` loop that will automatically merge files to create a new file. "
   ]
  },
  {
   "cell_type": "markdown",
   "id": "79fd38a6",
   "metadata": {
    "id": "79fd38a6"
   },
   "source": [
    "**Step 1: Import CSV.**\n",
    "\n",
    "You will need to import CSV to be able to work with these types of files. "
   ]
  },
  {
   "cell_type": "code",
   "execution_count": null,
   "id": "1e6cc538",
   "metadata": {
    "id": "1e6cc538"
   },
   "outputs": [],
   "source": [
    "import csv"
   ]
  },
  {
   "cell_type": "markdown",
   "id": "c4f85f9b",
   "metadata": {
    "id": "c4f85f9b"
   },
   "source": [
    "**Step 2: Set up the first statement to declare the output file.**\n",
    "\n",
    "To do this, you will start `with open() as output-file-variable-name` "
   ]
  },
  {
   "cell_type": "code",
   "execution_count": null,
   "id": "de3cc217",
   "metadata": {
    "id": "de3cc217"
   },
   "outputs": [],
   "source": [
    "with open(\".csv\", \"a\") as ... # insert a variable name here"
   ]
  },
  {
   "cell_type": "markdown",
   "id": "fc313d96",
   "metadata": {
    "id": "fc313d96"
   },
   "source": [
    "**Step 3: Create a nested 'with' statement for the first file.**\n",
    "\n",
    "The next step is to create a nested `with` statement to open the first file. We will need to read in each line in the file. Fill in the below statement to understand how the open statement is created. "
   ]
  },
  {
   "cell_type": "code",
   "execution_count": null,
   "id": "e6c0f078",
   "metadata": {
    "id": "e6c0f078"
   },
   "outputs": [],
   "source": [
    "# Insert the name of the first file in parentheses\n",
    "    with open(\"\") as ...: # replace the ... with a variable name or letter\n",
    "        for line in ...:\n",
    "            ....write(line) # replace with variable from step 2"
   ]
  },
  {
   "cell_type": "markdown",
   "id": "d4260705",
   "metadata": {
    "id": "d4260705"
   },
   "source": [
    "`for line in` is a `for` statement that will read each line in the document to write to the new file. \n"
   ]
  },
  {
   "cell_type": "markdown",
   "id": "rTOEC6GC3GWe",
   "metadata": {
    "id": "rTOEC6GC3GWe"
   },
   "source": [
    "**Step 4: Write a nested 'with' statement for the second file.** \n",
    "\n",
    "This time, you will write the nested statement completely on your own. The only thing that should change is the file name, as you will be using ***ClientData_2.csv*** instead of ***ClientData_1.csv***."
   ]
  },
  {
   "cell_type": "code",
   "execution_count": null,
   "id": "7f25e614",
   "metadata": {
    "id": "7f25e614"
   },
   "outputs": [],
   "source": []
  },
  {
   "cell_type": "code",
   "execution_count": null,
   "id": "41c29782",
   "metadata": {
    "id": "41c29782"
   },
   "outputs": [],
   "source": []
  }
 ],
 "metadata": {
  "colab": {
   "name": "6.2.3 Merging Files in DataFrames Activity.ipynb",
   "provenance": []
  },
  "kernelspec": {
   "display_name": "Python 3 (ipykernel)",
   "language": "python",
   "name": "python3"
  },
  "language_info": {
   "codemirror_mode": {
    "name": "ipython",
    "version": 3
   },
   "file_extension": ".py",
   "mimetype": "text/x-python",
   "name": "python",
   "nbconvert_exporter": "python",
   "pygments_lexer": "ipython3",
   "version": "3.9.7"
  }
 },
 "nbformat": 4,
 "nbformat_minor": 5
}
